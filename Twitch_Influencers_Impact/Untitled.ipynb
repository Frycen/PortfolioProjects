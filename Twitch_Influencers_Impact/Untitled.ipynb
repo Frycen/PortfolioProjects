{
 "cells": [
  {
   "cell_type": "code",
   "execution_count": 15,
   "metadata": {},
   "outputs": [],
   "source": [
    "import csv\n",
    "import pandas as pd"
   ]
  },
  {
   "cell_type": "code",
   "execution_count": 16,
   "metadata": {},
   "outputs": [],
   "source": [
    "F1 = pd.read_csv('Twitch_game_data.csv', encoding = 'unicode_escape')\n",
    "F2 = pd.read_csv('SteamCharts.csv', encoding = 'unicode_escape')"
   ]
  },
  {
   "cell_type": "code",
   "execution_count": 24,
   "metadata": {},
   "outputs": [
    {
     "data": {
      "text/html": [
       "<div>\n",
       "<style scoped>\n",
       "    .dataframe tbody tr th:only-of-type {\n",
       "        vertical-align: middle;\n",
       "    }\n",
       "\n",
       "    .dataframe tbody tr th {\n",
       "        vertical-align: top;\n",
       "    }\n",
       "\n",
       "    .dataframe thead th {\n",
       "        text-align: right;\n",
       "    }\n",
       "</style>\n",
       "<table border=\"1\" class=\"dataframe\">\n",
       "  <thead>\n",
       "    <tr style=\"text-align: right;\">\n",
       "      <th></th>\n",
       "      <th>Rank</th>\n",
       "      <th>Game</th>\n",
       "      <th>Month</th>\n",
       "      <th>Year</th>\n",
       "      <th>Hours_watched</th>\n",
       "      <th>Hours_Streamed</th>\n",
       "      <th>Peak_viewers</th>\n",
       "      <th>Peak_channels</th>\n",
       "      <th>Streamers</th>\n",
       "      <th>Avg_viewers</th>\n",
       "      <th>Avg_channels</th>\n",
       "      <th>Avg_viewer_ratio</th>\n",
       "    </tr>\n",
       "  </thead>\n",
       "  <tbody>\n",
       "    <tr>\n",
       "      <th>0</th>\n",
       "      <td>1</td>\n",
       "      <td>League of Legends</td>\n",
       "      <td>1</td>\n",
       "      <td>2016</td>\n",
       "      <td>94377226</td>\n",
       "      <td>1362044 hours</td>\n",
       "      <td>530270</td>\n",
       "      <td>2903</td>\n",
       "      <td>129172</td>\n",
       "      <td>127021</td>\n",
       "      <td>1833</td>\n",
       "      <td>69.29</td>\n",
       "    </tr>\n",
       "    <tr>\n",
       "      <th>1</th>\n",
       "      <td>2</td>\n",
       "      <td>Counter-Strike: Global Offensive</td>\n",
       "      <td>1</td>\n",
       "      <td>2016</td>\n",
       "      <td>47832863</td>\n",
       "      <td>830105 hours</td>\n",
       "      <td>372654</td>\n",
       "      <td>2197</td>\n",
       "      <td>120849</td>\n",
       "      <td>64378</td>\n",
       "      <td>1117</td>\n",
       "      <td>57.62</td>\n",
       "    </tr>\n",
       "    <tr>\n",
       "      <th>2</th>\n",
       "      <td>3</td>\n",
       "      <td>Dota 2</td>\n",
       "      <td>1</td>\n",
       "      <td>2016</td>\n",
       "      <td>45185893</td>\n",
       "      <td>433397 hours</td>\n",
       "      <td>315083</td>\n",
       "      <td>1100</td>\n",
       "      <td>44074</td>\n",
       "      <td>60815</td>\n",
       "      <td>583</td>\n",
       "      <td>104.26</td>\n",
       "    </tr>\n",
       "    <tr>\n",
       "      <th>3</th>\n",
       "      <td>4</td>\n",
       "      <td>Hearthstone</td>\n",
       "      <td>1</td>\n",
       "      <td>2016</td>\n",
       "      <td>39936159</td>\n",
       "      <td>235903 hours</td>\n",
       "      <td>131357</td>\n",
       "      <td>517</td>\n",
       "      <td>36170</td>\n",
       "      <td>53749</td>\n",
       "      <td>317</td>\n",
       "      <td>169.29</td>\n",
       "    </tr>\n",
       "    <tr>\n",
       "      <th>4</th>\n",
       "      <td>5</td>\n",
       "      <td>Call of Duty: Black Ops III</td>\n",
       "      <td>1</td>\n",
       "      <td>2016</td>\n",
       "      <td>16153057</td>\n",
       "      <td>1151578 hours</td>\n",
       "      <td>71639</td>\n",
       "      <td>3620</td>\n",
       "      <td>214054</td>\n",
       "      <td>21740</td>\n",
       "      <td>1549</td>\n",
       "      <td>14.03</td>\n",
       "    </tr>\n",
       "  </tbody>\n",
       "</table>\n",
       "</div>"
      ],
      "text/plain": [
       "   Rank                              Game  Month  Year  Hours_watched  \\\n",
       "0     1                 League of Legends      1  2016       94377226   \n",
       "1     2  Counter-Strike: Global Offensive      1  2016       47832863   \n",
       "2     3                            Dota 2      1  2016       45185893   \n",
       "3     4                       Hearthstone      1  2016       39936159   \n",
       "4     5       Call of Duty: Black Ops III      1  2016       16153057   \n",
       "\n",
       "  Hours_Streamed  Peak_viewers  Peak_channels  Streamers  Avg_viewers  \\\n",
       "0  1362044 hours        530270           2903     129172       127021   \n",
       "1   830105 hours        372654           2197     120849        64378   \n",
       "2   433397 hours        315083           1100      44074        60815   \n",
       "3   235903 hours        131357            517      36170        53749   \n",
       "4  1151578 hours         71639           3620     214054        21740   \n",
       "\n",
       "   Avg_channels  Avg_viewer_ratio  \n",
       "0          1833             69.29  \n",
       "1          1117             57.62  \n",
       "2           583            104.26  \n",
       "3           317            169.29  \n",
       "4          1549             14.03  "
      ]
     },
     "execution_count": 24,
     "metadata": {},
     "output_type": "execute_result"
    }
   ],
   "source": [
    "F1.head()"
   ]
  },
  {
   "cell_type": "code",
   "execution_count": 30,
   "metadata": {},
   "outputs": [],
   "source": [
    "UniqueF1 = F1.Game.drop_duplicates()"
   ]
  },
  {
   "cell_type": "code",
   "execution_count": 32,
   "metadata": {},
   "outputs": [
    {
     "data": {
      "text/plain": [
       "0                         League of Legends\n",
       "1          Counter-Strike: Global Offensive\n",
       "2                                    Dota 2\n",
       "3                               Hearthstone\n",
       "4               Call of Duty: Black Ops III\n",
       "                        ...                \n",
       "13180              Ni no Kuni: Cross Worlds\n",
       "13182      Sniper Ghost Warrior Contracts 2\n",
       "13187    Phantasy Star Online 2 New Genesis\n",
       "13191                         Phantom Abyss\n",
       "13196                                  Muck\n",
       "Name: Game, Length: 1677, dtype: object"
      ]
     },
     "execution_count": 32,
     "metadata": {},
     "output_type": "execute_result"
    }
   ],
   "source": [
    "UniqueF1"
   ]
  },
  {
   "cell_type": "code",
   "execution_count": 34,
   "metadata": {},
   "outputs": [
    {
     "data": {
      "text/html": [
       "<div>\n",
       "<style scoped>\n",
       "    .dataframe tbody tr th:only-of-type {\n",
       "        vertical-align: middle;\n",
       "    }\n",
       "\n",
       "    .dataframe tbody tr th {\n",
       "        vertical-align: top;\n",
       "    }\n",
       "\n",
       "    .dataframe thead th {\n",
       "        text-align: right;\n",
       "    }\n",
       "</style>\n",
       "<table border=\"1\" class=\"dataframe\">\n",
       "  <thead>\n",
       "    <tr style=\"text-align: right;\">\n",
       "      <th></th>\n",
       "      <th>Game</th>\n",
       "      <th>year</th>\n",
       "      <th>month</th>\n",
       "      <th>avg</th>\n",
       "      <th>gain</th>\n",
       "      <th>peak</th>\n",
       "      <th>avg_peak_perc</th>\n",
       "    </tr>\n",
       "  </thead>\n",
       "  <tbody>\n",
       "    <tr>\n",
       "      <th>0</th>\n",
       "      <td>Counter-Strike: Global Offensive</td>\n",
       "      <td>2021</td>\n",
       "      <td>February</td>\n",
       "      <td>741013.24</td>\n",
       "      <td>-2196.42</td>\n",
       "      <td>1123485</td>\n",
       "      <td>65.96%</td>\n",
       "    </tr>\n",
       "    <tr>\n",
       "      <th>1</th>\n",
       "      <td>Counter-Strike: Global Offensive</td>\n",
       "      <td>2021</td>\n",
       "      <td>January</td>\n",
       "      <td>743209.66</td>\n",
       "      <td>25405.91</td>\n",
       "      <td>1124553</td>\n",
       "      <td>66.09%</td>\n",
       "    </tr>\n",
       "    <tr>\n",
       "      <th>2</th>\n",
       "      <td>Counter-Strike: Global Offensive</td>\n",
       "      <td>2020</td>\n",
       "      <td>December</td>\n",
       "      <td>717803.75</td>\n",
       "      <td>49049.17</td>\n",
       "      <td>1164396</td>\n",
       "      <td>61.65%</td>\n",
       "    </tr>\n",
       "    <tr>\n",
       "      <th>3</th>\n",
       "      <td>Counter-Strike: Global Offensive</td>\n",
       "      <td>2020</td>\n",
       "      <td>November</td>\n",
       "      <td>668754.58</td>\n",
       "      <td>55087.89</td>\n",
       "      <td>1037464</td>\n",
       "      <td>64.46%</td>\n",
       "    </tr>\n",
       "    <tr>\n",
       "      <th>4</th>\n",
       "      <td>Counter-Strike: Global Offensive</td>\n",
       "      <td>2020</td>\n",
       "      <td>October</td>\n",
       "      <td>613666.69</td>\n",
       "      <td>6816.37</td>\n",
       "      <td>943876</td>\n",
       "      <td>65.02%</td>\n",
       "    </tr>\n",
       "  </tbody>\n",
       "</table>\n",
       "</div>"
      ],
      "text/plain": [
       "                               Game  year      month        avg      gain  \\\n",
       "0  Counter-Strike: Global Offensive  2021  February   741013.24  -2196.42   \n",
       "1  Counter-Strike: Global Offensive  2021   January   743209.66  25405.91   \n",
       "2  Counter-Strike: Global Offensive  2020  December   717803.75  49049.17   \n",
       "3  Counter-Strike: Global Offensive  2020  November   668754.58  55087.89   \n",
       "4  Counter-Strike: Global Offensive  2020   October   613666.69   6816.37   \n",
       "\n",
       "      peak avg_peak_perc  \n",
       "0  1123485        65.96%  \n",
       "1  1124553        66.09%  \n",
       "2  1164396        61.65%  \n",
       "3  1037464        64.46%  \n",
       "4   943876        65.02%  "
      ]
     },
     "execution_count": 34,
     "metadata": {},
     "output_type": "execute_result"
    }
   ],
   "source": [
    "F2.head()"
   ]
  },
  {
   "cell_type": "code",
   "execution_count": 36,
   "metadata": {},
   "outputs": [],
   "source": [
    "UniqueF2 = F2.Game.drop_duplicates()"
   ]
  },
  {
   "cell_type": "code",
   "execution_count": 37,
   "metadata": {},
   "outputs": [
    {
     "data": {
      "text/plain": [
       "0        Counter-Strike: Global Offensive\n",
       "104                                Dota 2\n",
       "208         PLAYERUNKNOWN'S BATTLEGROUNDS\n",
       "256                          Apex Legends\n",
       "260                                  Rust\n",
       "                       ...               \n",
       "83427                           Teeworlds\n",
       "83494                             Far Cry\n",
       "83598                         Axiom Verge\n",
       "83669                         Plug & Play\n",
       "83741         Steel Division: Normandy 44\n",
       "Name: Game, Length: 1260, dtype: object"
      ]
     },
     "execution_count": 37,
     "metadata": {},
     "output_type": "execute_result"
    }
   ],
   "source": [
    "UniqueF2"
   ]
  },
  {
   "cell_type": "code",
   "execution_count": null,
   "metadata": {},
   "outputs": [],
   "source": []
  }
 ],
 "metadata": {
  "kernelspec": {
   "display_name": "Python 3",
   "language": "python",
   "name": "python3"
  },
  "language_info": {
   "codemirror_mode": {
    "name": "ipython",
    "version": 3
   },
   "file_extension": ".py",
   "mimetype": "text/x-python",
   "name": "python",
   "nbconvert_exporter": "python",
   "pygments_lexer": "ipython3",
   "version": "3.8.5"
  }
 },
 "nbformat": 4,
 "nbformat_minor": 4
}
